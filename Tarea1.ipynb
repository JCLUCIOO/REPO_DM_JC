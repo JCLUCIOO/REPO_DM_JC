{
 "cells": [
  {
   "cell_type": "markdown",
   "metadata": {},
   "source": [
    "# TAREA 1"
   ]
  },
  {
   "cell_type": "markdown",
   "metadata": {},
   "source": [
    "## Instalación de Spark"
   ]
  },
  {
   "cell_type": "code",
   "execution_count": 1,
   "metadata": {},
   "outputs": [
    {
     "name": "stdout",
     "output_type": "stream",
     "text": [
      "3.5.2\n"
     ]
    }
   ],
   "source": [
    "import pyspark\n",
    "print(pyspark.__version__)"
   ]
  },
  {
   "cell_type": "code",
   "execution_count": 3,
   "metadata": {},
   "outputs": [
    {
     "name": "stdout",
     "output_type": "stream",
     "text": [
      "JAVA_HOME: C:\\Program Files\\Java\\jdk-11\n",
      "SPARK_HOME: C:\\Spark\n"
     ]
    }
   ],
   "source": [
    "import subprocess\n",
    "java_home = subprocess.check_output('echo %JAVA_HOME%', shell=True).decode().strip()\n",
    "spark_home = subprocess.check_output('echo %SPARK_HOME%', shell=True).decode().strip()\n",
    "print('JAVA_HOME:', java_home)\n",
    "print('SPARK_HOME:', spark_home)"
   ]
  },
  {
   "cell_type": "code",
   "execution_count": 4,
   "metadata": {},
   "outputs": [
    {
     "data": {
      "text/html": [
       "\n",
       "            <div>\n",
       "                <p><b>SparkSession - in-memory</b></p>\n",
       "                \n",
       "        <div>\n",
       "            <p><b>SparkContext</b></p>\n",
       "\n",
       "            <p><a href=\"http://DESKTOP-QOP6DNJ:4040\">Spark UI</a></p>\n",
       "\n",
       "            <dl>\n",
       "              <dt>Version</dt>\n",
       "                <dd><code>v3.4.3</code></dd>\n",
       "              <dt>Master</dt>\n",
       "                <dd><code>local[*]</code></dd>\n",
       "              <dt>AppName</dt>\n",
       "                <dd><code>Mi primera</code></dd>\n",
       "            </dl>\n",
       "        </div>\n",
       "        \n",
       "            </div>\n",
       "        "
      ],
      "text/plain": [
       "<pyspark.sql.session.SparkSession at 0x2a77e251f40>"
      ]
     },
     "execution_count": 4,
     "metadata": {},
     "output_type": "execute_result"
    }
   ],
   "source": [
    "import os\n",
    "import sys\n",
    "import findspark\n",
    "findspark.init()\n",
    "findspark.find()\n",
    "from pyspark.sql import DataFrame, SparkSession\n",
    "from typing import List\n",
    "import pyspark.sql.types as T\n",
    "import pyspark.sql.functions as F\n",
    "from pyspark.sql.functions import col, to_date, concat, lpad, lit\n",
    "spark= SparkSession.builder.appName(\"Mi primera\").getOrCreate()\n",
    "spark"
   ]
  },
  {
   "cell_type": "markdown",
   "metadata": {},
   "source": [
    "## Conjunto de Datos"
   ]
  },
  {
   "cell_type": "markdown",
   "metadata": {},
   "source": [
    "Em-DATA contiene registros de desastres naturales alrededor del mundo, reuniendo información de distintas fuentes como la ONU, ONGs y reaseguradoras.\n",
    "El conjunto de datos seleccionado trae la información referente al continente americano (2000 - actualidad) que el proyecto pone a disposición pública. "
   ]
  },
  {
   "cell_type": "markdown",
   "metadata": {},
   "source": [
    "Se incluye la ubicación del evento por coordenadas geográficas, se fecha de inicio y fin, una serie de clasificaciones, número de heridos, muertes y desplazados, así como el impacto económico a través del costo de reconstrucción e indemnizaciones por seguro."
   ]
  },
  {
   "cell_type": "markdown",
   "metadata": {},
   "source": [
    "Actualmente trabajo como analista de reservas de seguros de daños en LATAM. Los desastres naturales tienen gran impacto para la industria aseguradora al ser considerados eventos catastróficos. De ahí mi interés por trabajar con este conjunto de datos que además es libre."
   ]
  },
  {
   "cell_type": "code",
   "execution_count": 28,
   "metadata": {},
   "outputs": [],
   "source": [
    "df = spark.read.csv('disasters.csv', header=True, inferSchema=True)\n",
    "#https://doc.emdat.be/docs/data-structure-and-content/emdat-public-table/"
   ]
  },
  {
   "cell_type": "code",
   "execution_count": 29,
   "metadata": {},
   "outputs": [],
   "source": [
    "def clean_column_names(df):\n",
    "    new_columns = [col.replace(\" \", \"_\").lower().strip() for col in df.columns]\n",
    "    df = df.toDF(*new_columns)\n",
    "    return df"
   ]
  },
  {
   "cell_type": "code",
   "execution_count": 30,
   "metadata": {},
   "outputs": [],
   "source": [
    "df = clean_column_names(df)"
   ]
  },
  {
   "cell_type": "code",
   "execution_count": 31,
   "metadata": {},
   "outputs": [
    {
     "name": "stdout",
     "output_type": "stream",
     "text": [
      "root\n",
      " |-- disno: string (nullable = true)\n",
      " |-- historic: string (nullable = true)\n",
      " |-- classification_key: string (nullable = true)\n",
      " |-- disaster_group: string (nullable = true)\n",
      " |-- disaster_subgroup: string (nullable = true)\n",
      " |-- disaster_type: string (nullable = true)\n",
      " |-- disaster_subtype: string (nullable = true)\n",
      " |-- external_ids: string (nullable = true)\n",
      " |-- event_name: string (nullable = true)\n",
      " |-- iso: string (nullable = true)\n",
      " |-- country: string (nullable = true)\n",
      " |-- subregion: string (nullable = true)\n",
      " |-- region: string (nullable = true)\n",
      " |-- location: string (nullable = true)\n",
      " |-- origin: string (nullable = true)\n",
      " |-- associated_types: string (nullable = true)\n",
      " |-- ofda_bha_response: string (nullable = true)\n",
      " |-- appeal: string (nullable = true)\n",
      " |-- declaration: string (nullable = true)\n",
      " |-- aid_contribution: integer (nullable = true)\n",
      " |-- magnitude: double (nullable = true)\n",
      " |-- magnitude_scale: string (nullable = true)\n",
      " |-- latitude: double (nullable = true)\n",
      " |-- longitude: double (nullable = true)\n",
      " |-- river_basin: string (nullable = true)\n",
      " |-- start_year: integer (nullable = true)\n",
      " |-- start_month: integer (nullable = true)\n",
      " |-- start_day: integer (nullable = true)\n",
      " |-- end_year: integer (nullable = true)\n",
      " |-- end_month: integer (nullable = true)\n",
      " |-- end_day: integer (nullable = true)\n",
      " |-- total_deaths: integer (nullable = true)\n",
      " |-- injured: integer (nullable = true)\n",
      " |-- affected: integer (nullable = true)\n",
      " |-- homeless: integer (nullable = true)\n",
      " |-- total_affected: integer (nullable = true)\n",
      " |-- reconstruction_costs: integer (nullable = true)\n",
      " |-- reconstruction_costs_adjusted: integer (nullable = true)\n",
      " |-- insured_damage: double (nullable = true)\n",
      " |-- insured_damage_adjusted: integer (nullable = true)\n",
      " |-- total_damage: integer (nullable = true)\n",
      " |-- total_damage_adjusted: integer (nullable = true)\n",
      " |-- cpi: double (nullable = true)\n",
      " |-- admin_units: string (nullable = true)\n",
      " |-- entry_date: string (nullable = true)\n",
      " |-- last_update: string (nullable = true)\n",
      "\n"
     ]
    }
   ],
   "source": [
    "df.printSchema()"
   ]
  },
  {
   "cell_type": "code",
   "execution_count": 35,
   "metadata": {},
   "outputs": [
    {
     "name": "stdout",
     "output_type": "stream",
     "text": [
      "+-------+--------+------------------+--------------+-----------------+-------------+------------------+--------------------+----+--------------------+--------------------+--------+--------------------+--------------------+--------------------+-----------------+------+-----------+------------------+------------------+---------------+------------------+------------------+-----------+-----------------+------------------+------------------+-----------------+------------------+-----------------+------------------+-----------------+------------------+------------------+------------------+--------------------+-----------------------------+------------------+-----------------------+-----------------+---------------------+----------------+--------------------+--------------------+-------------------+\n",
      "|summary|historic|classification_key|disaster_group|disaster_subgroup|disaster_type|  disaster_subtype|          event_name| iso|             country|           subregion|  region|            location|              origin|    associated_types|ofda_bha_response|appeal|declaration|  aid_contribution|         magnitude|magnitude_scale|          latitude|         longitude|river_basin|       start_year|       start_month|         start_day|         end_year|         end_month|          end_day|      total_deaths|          injured|          affected|          homeless|    total_affected|reconstruction_costs|reconstruction_costs_adjusted|    insured_damage|insured_damage_adjusted|     total_damage|total_damage_adjusted|             cpi|         admin_units|          entry_date|        last_update|\n",
      "+-------+--------+------------------+--------------+-----------------+-------------+------------------+--------------------+----+--------------------+--------------------+--------+--------------------+--------------------+--------------------+-----------------+------+-----------+------------------+------------------+---------------+------------------+------------------+-----------+-----------------+------------------+------------------+-----------------+------------------+-----------------+------------------+-----------------+------------------+------------------+------------------+--------------------+-----------------------------+------------------+-----------------------+-----------------+---------------------+----------------+--------------------+--------------------+-------------------+\n",
      "|  count|    3142|              3142|          3142|             3142|         3142|              3142|                 894|3142|                3142|                3142|    3142|                3030|                 894|                 991|             3142|  3142|       3142|               104|               716|           2265|               390|               390|        302|             3142|              3134|              2837|             3142|              3105|             2859|              2344|             1057|              1630|               312|              2405|                  11|                           11|               344|                    336|              940|                  920|            3059|                2123|                3142|               3142|\n",
      "|   mean|    null|              null|          null|             null|         null|              null|                null|null|                null|                null|    null|                null|                null|                null|             null|  null|       null|39455.682692307695|113246.06972067038|           null|7.5006620069230765|-76.40157324769234|       null|2011.525779758116| 6.422463305679643|15.649982375749032|  2011.5544239338| 6.592270531400966|16.00629590766002|127.95307167235495|2743.124881740776|193270.49938650307|10431.548076923076|133548.87318087317|   2710415.727272727|           3688025.6363636362|1923634.2720930234|           2527217.9375|1813149.020212766|   2323913.1021739133|73.9198269986214|                null|                null|               null|\n",
      "| stddev|    null|              null|          null|             null|         null|              null|                null|null|                null|                null|    null|                null|                null|                null|             null|  null|       null| 344852.1083615456|1502524.4732086437|           null|24.119706655628843|25.652087177931655|       null|7.264752949367109|3.4203657053975265| 8.913536885506229|7.269501508574463|3.3743944900102987| 8.86193546386634| 4600.272417421032|56980.44330067959| 2285920.049379605| 53038.57667516715| 1884996.916682675|   4306141.648285019|           6030342.5370947085|5973470.8968648305|      7816926.365932737|7704475.682192535| 1.0226453722773368E7|11.6821043767669|                null|                null|               null|\n",
      "|    min|      No|   nat-bio-epi-bac|       Natural|       Biological|          Air|               Air| East Amarillo Co...| AIA|            Anguilla|Latin America and...|Americas| Estancia de Soco...|Active monsoonal ...|Avalanche (Snow, ...|               No|    No|         No|                 9|             -50.0|            Km2|            -72.64|          -155.935|  Acelhuate|             2000|                 1|                 1|             2000|                 1|                1|                 1|                1|                 1|                 5|                 1|                1510|                         1975|             162.0|                    201|               10|                   17|     56.51429056|\"[{\"\"adm1_code\"\":...|\"\"adm1_name\"\":\"\"A...|         01/02/2013|\n",
      "|    max|      No|   tec-tra-wat-wat| Technological|        Transport|     Wildfire|Wildfire (General)|            de Fuego| VIR|Venezuela (Boliva...|    Northern America|Americas|�uble, Biob�o, Ar...|vortex ring state...|            Wildfire|              Yes|   Yes|        Yes|           3518530|             4.0E7|             �C|             67.93|           124.423| rio Bejuco|             2024|                12|                31|             2024|                12|               31|            222570|          1800000|          85000000|            800000|          85000012|            11500000|                     16069623|             6.0E7|               93614347|        125000000|            195029889|           100.0|\"[{\"\"adm2_code\"\":...|          31/07/2019|{\"\"adm2_code\"\":9961|\n",
      "+-------+--------+------------------+--------------+-----------------+-------------+------------------+--------------------+----+--------------------+--------------------+--------+--------------------+--------------------+--------------------+-----------------+------+-----------+------------------+------------------+---------------+------------------+------------------+-----------+-----------------+------------------+------------------+-----------------+------------------+-----------------+------------------+-----------------+------------------+------------------+------------------+--------------------+-----------------------------+------------------+-----------------------+-----------------+---------------------+----------------+--------------------+--------------------+-------------------+\n",
      "\n"
     ]
    }
   ],
   "source": [
    "excl = ['disno','external_ids']\n",
    "df.select([col for col in df.columns if col not in excl]).describe().show()"
   ]
  },
  {
   "cell_type": "code",
   "execution_count": 41,
   "metadata": {},
   "outputs": [],
   "source": [
    "def create_date_column(df, year_col, month_col, day_col, new_col_name):\n",
    "    df = df.withColumn(month_col, lpad(col(month_col), 2, \"0\")) \\\n",
    "           .withColumn(day_col, lpad(col(day_col), 2, \"0\"))\n",
    "    \n",
    "    return df.withColumn(new_col_name, to_date(concat(col(year_col), \n",
    "                                                        lit(\"-\"), \n",
    "                                                        col(month_col), \n",
    "                                                        lit(\"-\"), \n",
    "                                                        col(day_col)), \n",
    "                                                \"yyyy-MM-dd\"))\n",
    "\n",
    "df = create_date_column(df, \"start_year\", \"start_month\", \"start_day\", \"start_date\")\n",
    "df = create_date_column(df, \"end_year\", \"end_month\", \"end_day\", \"end_date\")"
   ]
  },
  {
   "cell_type": "code",
   "execution_count": 44,
   "metadata": {},
   "outputs": [
    {
     "name": "stdout",
     "output_type": "stream",
     "text": [
      "+-------------+--------+------------------+--------------+-----------------+-------------+----------------+--------------------+-----------------+---+--------------------+--------------------+--------+--------------------+------+----------------+-----------------+------+-----------+----------------+---------+---------------+--------+---------+-----------+----------+-----------+---------+--------+---------+-------+------------+-------+--------+--------+--------------+--------------------+-----------------------------+--------------+-----------------------+------------+---------------------+----+-----------+----------+-----------+----------+----------+\n",
      "|        disno|historic|classification_key|disaster_group|disaster_subgroup|disaster_type|disaster_subtype|        external_ids|       event_name|iso|             country|           subregion|  region|            location|origin|associated_types|ofda_bha_response|appeal|declaration|aid_contribution|magnitude|magnitude_scale|latitude|longitude|river_basin|start_year|start_month|start_day|end_year|end_month|end_day|total_deaths|injured|affected|homeless|total_affected|reconstruction_costs|reconstruction_costs_adjusted|insured_damage|insured_damage_adjusted|total_damage|total_damage_adjusted| cpi|admin_units|entry_date|last_update|start_date|  end_date|\n",
      "+-------------+--------+------------------+--------------+-----------------+-------------+----------------+--------------------+-----------------+---+--------------------+--------------------+--------+--------------------+------+----------------+-----------------+------+-----------+----------------+---------+---------------+--------+---------+-----------+----------+-----------+---------+--------+---------+-------+------------+-------+--------+--------+--------------+--------------------+-----------------------------+--------------+-----------------------+------------+---------------------+----+-----------+----------+-----------+----------+----------+\n",
      "|2024-0422-CAN|      No|   nat-met-sto-tro|       Natural|   Meteorological|        Storm|Tropical cyclone|GLIDE:TC-2024-000105|Hurricane 'Beryl'|CAN|              Canada|    Northern America|Americas|     Nouvelle Ecosse|  null|           Flood|               No|    No|         No|            null|     null|            Kph|    null|     null|       null|      2024|         07|       12|    2024|       07|     12|           1|   null|    null|    null|          null|                null|                         null|          null|                   null|        null|                 null|null|       null|16/07/2024| 01/08/2024|2024-07-12|2024-07-12|\n",
      "|2024-0422-USA|      No|   nat-met-sto-tro|       Natural|   Meteorological|        Storm|Tropical cyclone|GLIDE:TC-2024-000105|Hurricane 'Beryl'|USA|United States of ...|    Northern America|Americas|    Texas, Louisiana|  null|           Flood|               No|    No|        Yes|            null|    130.0|            Kph|    null|     null|       null|      2024|         07|       08|    2024|       07|     09|           8|   null|     207|    null|           207|                null|                         null|          null|                   null|     4500000|                 null|null|       null|10/07/2024| 01/08/2024|2024-07-08|2024-07-09|\n",
      "|2024-0422-JAM|      No|   nat-met-sto-tro|       Natural|   Meteorological|        Storm|Tropical cyclone|GLIDE:TC-2024-000105|Hurricane 'Beryl'|JAM|             Jamaica|Latin America and...|Americas|Clarendon, St.Eli...|  null|            null|               No|    No|        Yes|            null|    270.0|            Kph|    null|     null|       null|      2024|         07|       03|    2024|       07|     04|           3|     60|  160000|    null|        160060|                null|                         null|       16300.0|                   null|     1000000|                 null|null|       null|08/07/2024| 09/08/2024|2024-07-03|2024-07-04|\n",
      "|2024-0422-BRB|      No|   nat-met-sto-tro|       Natural|   Meteorological|        Storm|Tropical cyclone|GLIDE:TC-2024-000105|Hurricane 'Beryl'|BRB|            Barbados|Latin America and...|Americas|                null|  null|           Surge|               No|    No|         No|            null|     null|            Kph|    null|     null|       null|      2024|         07|       01|    2024|       07|     02|        null|   null|    2500|    null|          2500|                null|                         null|          null|                   null|        null|                 null|null|       null|18/07/2024| 09/08/2024|2024-07-01|2024-07-02|\n",
      "|2024-0422-VCT|      No|   nat-met-sto-tro|       Natural|   Meteorological|        Storm|Tropical cyclone|GLIDE:TC-2024-000105|Hurricane 'Beryl'|VCT|Saint Vincent and...|Latin America and...|Americas|Union Island, Can...|  null|            null|               No|    No|        Yes|            null|    265.0|            Kph|    null|     null|       null|      2024|         07|       01|    2024|       07|     04|           3|   null|   15000|    null|         15000|                null|                         null|        1800.0|                   null|        null|                 null|null|       null|05/07/2024| 09/08/2024|2024-07-01|2024-07-04|\n",
      "+-------------+--------+------------------+--------------+-----------------+-------------+----------------+--------------------+-----------------+---+--------------------+--------------------+--------+--------------------+------+----------------+-----------------+------+-----------+----------------+---------+---------------+--------+---------+-----------+----------+-----------+---------+--------+---------+-------+------------+-------+--------+--------+--------------+--------------------+-----------------------------+--------------+-----------------------+------------+---------------------+----+-----------+----------+-----------+----------+----------+\n",
      "only showing top 5 rows\n",
      "\n"
     ]
    }
   ],
   "source": [
    "df.filter(df.disaster_group == \"Natural\").orderBy(F.desc(\"start_date\")).show(5)"
   ]
  },
  {
   "cell_type": "code",
   "execution_count": 48,
   "metadata": {},
   "outputs": [],
   "source": [
    "df = df.withColumn(\"duration_days\", F.datediff(col(\"end_date\"), col(\"start_date\")))"
   ]
  },
  {
   "cell_type": "code",
   "execution_count": 45,
   "metadata": {},
   "outputs": [
    {
     "name": "stdout",
     "output_type": "stream",
     "text": [
      "+--------------------------+----------------------------+\n",
      "|country                   |sum(insured_damage_adjusted)|\n",
      "+--------------------------+----------------------------+\n",
      "|United States of America  |758511085                   |\n",
      "|Puerto Rico               |38421087                    |\n",
      "|Mexico                    |17277689                    |\n",
      "|Chile                     |12564374                    |\n",
      "|Canada                    |10727427                    |\n",
      "|Cayman Islands            |2488594                     |\n",
      "|Saint Martin (French Part)|1530472                     |\n",
      "|Saint Barth�lemy          |1303735                     |\n",
      "|Peru                      |852322                      |\n",
      "|Brazil                    |737726                      |\n",
      "|Ecuador                   |710949                      |\n",
      "|Sint Maarten (Dutch part) |621537                      |\n",
      "|Jamaica                   |568881                      |\n",
      "|El Salvador               |499041                      |\n",
      "|Bahamas                   |495376                      |\n",
      "|Cuba                      |294221                      |\n",
      "|Haiti                     |279673                      |\n",
      "|Argentina                 |276678                      |\n",
      "|Bermuda                   |207045                      |\n",
      "|Costa Rica                |184496                      |\n",
      "+--------------------------+----------------------------+\n",
      "only showing top 20 rows\n",
      "\n"
     ]
    }
   ],
   "source": [
    "df.groupBy(\"country\").sum(\"insured_damage_adjusted\").orderBy(F.desc(\"sum(insured_damage_adjusted)\")).show(truncate=False)"
   ]
  },
  {
   "cell_type": "code",
   "execution_count": 52,
   "metadata": {},
   "outputs": [
    {
     "name": "stdout",
     "output_type": "stream",
     "text": [
      "+--------------------------------+-----+\n",
      "|disaster_subtype                |count|\n",
      "+--------------------------------+-----+\n",
      "|Forest fire                     |82   |\n",
      "|Cold wave                       |42   |\n",
      "|Fire (Industrial)               |3    |\n",
      "|Water                           |93   |\n",
      "|Flood (General)                 |310  |\n",
      "|Sand/Dust storm                 |1    |\n",
      "|Coastal flood                   |6    |\n",
      "|Road                            |386  |\n",
      "|Tsunami                         |4    |\n",
      "|Rail                            |26   |\n",
      "|Oil spill                       |3    |\n",
      "|Ash fall                        |39   |\n",
      "|Collapse (Industrial)           |12   |\n",
      "|Miscellaneous accident (General)|23   |\n",
      "|Tropical cyclone                |428  |\n",
      "|Infectious disease (General)    |2    |\n",
      "|Explosion (Industrial)          |34   |\n",
      "|Parasitic disease               |3    |\n",
      "|Landslide (wet)                 |69   |\n",
      "|Blizzard/Winter storm           |81   |\n",
      "+--------------------------------+-----+\n",
      "only showing top 20 rows\n",
      "\n"
     ]
    }
   ],
   "source": [
    "df.groupBy(\"disaster_subtype\").count().show(truncate=False)"
   ]
  }
 ],
 "metadata": {
  "kernelspec": {
   "display_name": "Python 3",
   "language": "python",
   "name": "python3"
  },
  "language_info": {
   "codemirror_mode": {
    "name": "ipython",
    "version": 3
   },
   "file_extension": ".py",
   "mimetype": "text/x-python",
   "name": "python",
   "nbconvert_exporter": "python",
   "pygments_lexer": "ipython3",
   "version": "3.12.3"
  }
 },
 "nbformat": 4,
 "nbformat_minor": 2
}
