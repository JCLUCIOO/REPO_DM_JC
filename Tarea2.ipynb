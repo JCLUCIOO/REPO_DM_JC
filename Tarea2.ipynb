{
  "cells": [
    {
      "cell_type": "markdown",
      "source": [
        "## TAREA 2"
      ],
      "metadata": {
        "id": "2roH4xSCtGxO"
      }
    },
    {
      "cell_type": "code",
      "source": [
        "pip install pyspark"
      ],
      "metadata": {
        "colab": {
          "base_uri": "https://localhost:8080/"
        },
        "id": "BcsqmB1P95Jf",
        "outputId": "3ba0abd2-2e83-400c-cc44-020e6db76c28"
      },
      "execution_count": 3,
      "outputs": [
        {
          "output_type": "stream",
          "name": "stdout",
          "text": [
            "Collecting pyspark\n",
            "  Downloading pyspark-3.5.3.tar.gz (317.3 MB)\n",
            "\u001b[2K     \u001b[90m━━━━━━━━━━━━━━━━━━━━━━━━━━━━━━━━━━━━━━━━\u001b[0m \u001b[32m317.3/317.3 MB\u001b[0m \u001b[31m3.7 MB/s\u001b[0m eta \u001b[36m0:00:00\u001b[0m\n",
            "\u001b[?25h  Preparing metadata (setup.py) ... \u001b[?25l\u001b[?25hdone\n",
            "Requirement already satisfied: py4j==0.10.9.7 in /usr/local/lib/python3.10/dist-packages (from pyspark) (0.10.9.7)\n",
            "Building wheels for collected packages: pyspark\n",
            "  Building wheel for pyspark (setup.py) ... \u001b[?25l\u001b[?25hdone\n",
            "  Created wheel for pyspark: filename=pyspark-3.5.3-py2.py3-none-any.whl size=317840625 sha256=30b27e6dda37d48b568c66ef848fc82fb167e1971c8a80230d83bd785f41bca5\n",
            "  Stored in directory: /root/.cache/pip/wheels/1b/3a/92/28b93e2fbfdbb07509ca4d6f50c5e407f48dce4ddbda69a4ab\n",
            "Successfully built pyspark\n",
            "Installing collected packages: pyspark\n",
            "Successfully installed pyspark-3.5.3\n"
          ]
        }
      ]
    },
    {
      "cell_type": "code",
      "source": [
        "import pyspark\n",
        "print(pyspark.__version__)"
      ],
      "metadata": {
        "colab": {
          "base_uri": "https://localhost:8080/"
        },
        "id": "J91-SmOdqU0z",
        "outputId": "aefa4a6c-9b94-4358-e515-5baa655a80b8"
      },
      "execution_count": 4,
      "outputs": [
        {
          "output_type": "stream",
          "name": "stdout",
          "text": [
            "3.5.3\n"
          ]
        }
      ]
    },
    {
      "cell_type": "code",
      "source": [
        "pip install findspark"
      ],
      "metadata": {
        "colab": {
          "base_uri": "https://localhost:8080/"
        },
        "id": "0YlHC5wH-S3s",
        "outputId": "bc7d43ab-c76d-4e55-9505-7839bd1126cc"
      },
      "execution_count": 5,
      "outputs": [
        {
          "output_type": "stream",
          "name": "stdout",
          "text": [
            "Collecting findspark\n",
            "  Downloading findspark-2.0.1-py2.py3-none-any.whl.metadata (352 bytes)\n",
            "Downloading findspark-2.0.1-py2.py3-none-any.whl (4.4 kB)\n",
            "Installing collected packages: findspark\n",
            "Successfully installed findspark-2.0.1\n"
          ]
        }
      ]
    },
    {
      "cell_type": "code",
      "source": [
        "import subprocess\n",
        "java_home = subprocess.check_output('echo %JAVA_HOME%', shell=True).decode().strip()\n",
        "spark_home = subprocess.check_output('echo %SPARK_HOME%', shell=True).decode().strip()\n",
        "print('JAVA_HOME:', java_home)\n",
        "print('SPARK_HOME:', spark_home)"
      ],
      "metadata": {
        "colab": {
          "base_uri": "https://localhost:8080/"
        },
        "id": "Na-o5z_YqX2d",
        "outputId": "f3bc43de-58b4-450a-f9b0-8b3c8e03b371"
      },
      "execution_count": 6,
      "outputs": [
        {
          "output_type": "stream",
          "name": "stdout",
          "text": [
            "JAVA_HOME: %JAVA_HOME%\n",
            "SPARK_HOME: %SPARK_HOME%\n"
          ]
        }
      ]
    },
    {
      "cell_type": "code",
      "source": [
        "import os\n",
        "import sys\n",
        "import findspark\n",
        "findspark.init()\n",
        "findspark.find()\n",
        "from pyspark.sql import DataFrame, SparkSession\n",
        "from typing import List\n",
        "import pyspark.sql.types as T\n",
        "import pyspark.sql.functions as F\n",
        "import time"
      ],
      "metadata": {
        "id": "xM-lzS84q2Ch"
      },
      "execution_count": 38,
      "outputs": []
    },
    {
      "cell_type": "code",
      "source": [
        "from pyspark import SparkContext"
      ],
      "metadata": {
        "id": "NwAhhv9Cosjk"
      },
      "execution_count": 8,
      "outputs": []
    },
    {
      "cell_type": "code",
      "source": [
        "import findspark\n",
        "findspark.init()"
      ],
      "metadata": {
        "id": "pSpzuVOtrjhP"
      },
      "execution_count": 9,
      "outputs": []
    },
    {
      "cell_type": "code",
      "source": [
        "import requests\n",
        "\n",
        "api_key = \"73e3e0580fb16a75fdf023438b452211\"\n",
        "city = \"Guerrero\"\n",
        "url = f\"http://api.openweathermap.org/data/2.5/weather?q={city}&appid={api_key}&units=metric\"\n",
        "\n",
        "response = requests.get(url)\n",
        "data = response.json()\n",
        "\n",
        "print(data)\n"
      ],
      "metadata": {
        "colab": {
          "base_uri": "https://localhost:8080/"
        },
        "id": "FIu-iheSrnJT",
        "outputId": "2847ff38-0dec-4289-d14e-f049ca9eeac1"
      },
      "execution_count": 10,
      "outputs": [
        {
          "output_type": "stream",
          "name": "stdout",
          "text": [
            "{'coord': {'lon': -100, 'lat': 17.6667}, 'weather': [{'id': 500, 'main': 'Rain', 'description': 'light rain', 'icon': '10n'}], 'base': 'stations', 'main': {'temp': 17.72, 'feels_like': 17.95, 'temp_min': 17.72, 'temp_max': 17.72, 'pressure': 1020, 'humidity': 92, 'sea_level': 1020, 'grnd_level': 827}, 'visibility': 10000, 'wind': {'speed': 1.9, 'deg': 181, 'gust': 1.77}, 'rain': {'1h': 0.19}, 'clouds': {'all': 46}, 'dt': 1728873935, 'sys': {'country': 'MX', 'sunrise': 1728822763, 'sunset': 1728865149}, 'timezone': -21600, 'id': 3527213, 'name': 'Guerrero', 'cod': 200}\n"
          ]
        }
      ]
    },
    {
      "cell_type": "code",
      "source": [
        "from pyspark.sql import SparkSession\n",
        "spark = SparkSession.builder \\\n",
        "    .appName(\"OpenWeatherData\") \\\n",
        "    .getOrCreate()"
      ],
      "metadata": {
        "id": "MzQCnPl5rqvl"
      },
      "execution_count": 11,
      "outputs": []
    },
    {
      "cell_type": "code",
      "source": [
        "weather_data = {\n",
        "    'city': data['name'],\n",
        "    'temperature': data['main']['temp'],\n",
        "    'description': data['weather'][0]['description'],\n",
        "    'humidity': data['main']['humidity']\n",
        "}\n",
        "\n",
        "data_list = [weather_data]\n",
        "\n",
        "rdd = spark.sparkContext.parallelize(data_list)\n",
        "\n",
        "print(rdd.collect())\n"
      ],
      "metadata": {
        "colab": {
          "base_uri": "https://localhost:8080/"
        },
        "id": "wIDmmx8LruYA",
        "outputId": "92c00d93-88d2-4d4c-beec-9799f5e1a6b0"
      },
      "execution_count": 12,
      "outputs": [
        {
          "output_type": "stream",
          "name": "stdout",
          "text": [
            "[{'city': 'Guerrero', 'temperature': 17.72, 'description': 'light rain', 'humidity': 92}]\n"
          ]
        }
      ]
    },
    {
      "cell_type": "code",
      "source": [
        "def C_to_F (celsius):\n",
        "    fahr = celsius * (9/5) + 32\n",
        "    return celsius, fahr"
      ],
      "metadata": {
        "id": "D1ixzBDovDVa"
      },
      "execution_count": 13,
      "outputs": []
    },
    {
      "cell_type": "code",
      "source": [
        "temp_celsius = data [\"main\"][\"temp\"]\n",
        "temp_celsius, temp_fahr = C_to_F(temp_celsius)\n",
        "feels_like_celsius = data [\"main\"][\"feels_like\"]\n",
        "feels_like_celsius, feels_like_fahr = C_to_F(feels_like_celsius)"
      ],
      "metadata": {
        "id": "brdz1AVsvEm9"
      },
      "execution_count": 14,
      "outputs": []
    },
    {
      "cell_type": "code",
      "source": [
        "temp_celsius"
      ],
      "metadata": {
        "colab": {
          "base_uri": "https://localhost:8080/"
        },
        "id": "XMrftc-0vLwV",
        "outputId": "80526403-4226-4d22-ef4f-f3112aaa0762"
      },
      "execution_count": 15,
      "outputs": [
        {
          "output_type": "execute_result",
          "data": {
            "text/plain": [
              "17.72"
            ]
          },
          "metadata": {},
          "execution_count": 15
        }
      ]
    },
    {
      "cell_type": "code",
      "source": [
        "temp_fahr"
      ],
      "metadata": {
        "colab": {
          "base_uri": "https://localhost:8080/"
        },
        "id": "DWz4Nz5OvOIQ",
        "outputId": "cbc43ef1-6696-4179-e5a1-0db4da05fe56"
      },
      "execution_count": 16,
      "outputs": [
        {
          "output_type": "execute_result",
          "data": {
            "text/plain": [
              "63.896"
            ]
          },
          "metadata": {},
          "execution_count": 16
        }
      ]
    },
    {
      "cell_type": "markdown",
      "source": [
        "Para considerar varias ciudades:"
      ],
      "metadata": {
        "id": "6X3-fZsBCDMt"
      }
    },
    {
      "cell_type": "code",
      "source": [
        "cities = [\n",
        "    \"Aguascalientes, Mexico\",\n",
        "    \"Mexicali, Mexico\",\n",
        "    \"La Paz, Mexico\",\n",
        "    \"Campeche, Mexico\",\n",
        "    \"Tuxtla Gutiérrez, Mexico\",\n",
        "    \"Chihuahua, Mexico\",\n",
        "    \"Saltillo, Mexico\",\n",
        "    \"Colima, Mexico\",\n",
        "    \"Durango, Mexico\",\n",
        "    \"Guanajuato, Mexico\",\n",
        "    \"Chilpancingo, Mexico\",\n",
        "    \"Pachuca, Mexico\",\n",
        "    \"Guadalajara, Mexico\",\n",
        "    \"Toluca, Mexico\",\n",
        "    \"Morelia, Mexico\",\n",
        "    \"Cuernavaca, Mexico\",\n",
        "    \"Tepic, Mexico\",\n",
        "    \"Monterrey, Mexico\",\n",
        "    \"Oaxaca de Juárez, Mexico\",\n",
        "    \"Puebla, Mexico\",\n",
        "    \"Querétaro, Mexico\",\n",
        "    \"Chetumal, Mexico\",\n",
        "    \"San Luis Potosí, Mexico\",\n",
        "    \"Culiacán, Mexico\",\n",
        "    \"Hermosillo, Mexico\",\n",
        "    \"Villahermosa, Mexico\",\n",
        "    \"Ciudad Victoria, Mexico\",\n",
        "    \"Tlaxcala, Mexico\",\n",
        "    \"Xalapa, Mexico\",\n",
        "    \"Mérida, Mexico\",\n",
        "    \"Zacatecas, Mexico\"\n",
        "]"
      ],
      "metadata": {
        "id": "b-t_UzEjADpV"
      },
      "execution_count": 21,
      "outputs": []
    },
    {
      "cell_type": "code",
      "source": [
        "sc = SparkContext.getOrCreate()\n",
        "weather_data_list = []\n",
        "\n",
        "for city in cities:\n",
        "    url = f\"http://api.openweathermap.org/data/2.5/weather?q={city}&appid={api_key}&units=metric\"\n",
        "    response = requests.get(url)\n",
        "\n",
        "    if response.status_code == 200:\n",
        "        data = response.json()\n",
        "        weather_data = {\n",
        "            'city': data['name'],\n",
        "            'temperature': data['main']['temp'],\n",
        "            'description': data['weather'][0]['description'],\n",
        "            'humidity': data['main']['humidity']\n",
        "        }\n",
        "        weather_data_list.append(weather_data)\n",
        "    else:\n",
        "        print(f\"Error fetching weather for {city}: {response.status_code}\")\n",
        "\n",
        "rdd = sc.parallelize(weather_data_list)\n",
        "print(rdd.collect())"
      ],
      "metadata": {
        "id": "j7EEDCAIIIDL",
        "outputId": "7aa6d5d9-77ad-4248-b724-5d534da3dd44",
        "colab": {
          "base_uri": "https://localhost:8080/"
        }
      },
      "execution_count": 22,
      "outputs": [
        {
          "output_type": "stream",
          "name": "stdout",
          "text": [
            "[{'city': 'Aguascalientes', 'temperature': 14.97, 'description': 'clear sky', 'humidity': 58}, {'city': 'Mexicali', 'temperature': 28.67, 'description': 'clear sky', 'humidity': 10}, {'city': 'La Paz', 'temperature': 10.32, 'description': 'few clouds', 'humidity': 56}, {'city': 'Campeche', 'temperature': 23.88, 'description': 'overcast clouds', 'humidity': 82}, {'city': 'Tuxtla Gutiérrez', 'temperature': 22.45, 'description': 'overcast clouds', 'humidity': 95}, {'city': 'Chihuahua', 'temperature': 19.46, 'description': 'clear sky', 'humidity': 21}, {'city': 'Saltillo', 'temperature': 15.72, 'description': 'clear sky', 'humidity': 59}, {'city': 'Colima', 'temperature': 20.54, 'description': 'few clouds', 'humidity': 94}, {'city': 'Durango', 'temperature': 13.42, 'description': 'clear sky', 'humidity': 42}, {'city': 'Guanajuato City', 'temperature': 18.44, 'description': 'broken clouds', 'humidity': 67}, {'city': 'Chilpancingo', 'temperature': 17.86, 'description': 'moderate rain', 'humidity': 94}, {'city': 'Pachuca', 'temperature': 12.44, 'description': 'broken clouds', 'humidity': 88}, {'city': 'Guadalajara', 'temperature': 17.87, 'description': 'clear sky', 'humidity': 63}, {'city': 'Toluca', 'temperature': 13.39, 'description': 'broken clouds', 'humidity': 62}, {'city': 'Morelia', 'temperature': 13.52, 'description': 'broken clouds', 'humidity': 76}, {'city': 'Cuernavaca', 'temperature': 16.43, 'description': 'broken clouds', 'humidity': 81}, {'city': 'Tepic', 'temperature': 22.72, 'description': 'few clouds', 'humidity': 83}, {'city': 'Monterrey', 'temperature': 26.43, 'description': 'clear sky', 'humidity': 49}, {'city': 'Oaxaca City', 'temperature': 16.3, 'description': 'broken clouds', 'humidity': 85}, {'city': 'Puebla', 'temperature': 17.47, 'description': 'overcast clouds', 'humidity': 68}, {'city': 'Querétaro', 'temperature': 14.96, 'description': 'scattered clouds', 'humidity': 70}, {'city': 'Chetumal', 'temperature': 27.4, 'description': 'light rain', 'humidity': 77}, {'city': 'San Luis Potosí', 'temperature': 12.92, 'description': 'clear sky', 'humidity': 69}, {'city': 'Culiacán', 'temperature': 29.82, 'description': 'few clouds', 'humidity': 70}, {'city': 'Hermosillo', 'temperature': 33.44, 'description': 'clear sky', 'humidity': 32}, {'city': 'Villahermosa', 'temperature': 24.45, 'description': 'broken clouds', 'humidity': 87}, {'city': 'Ciudad Victoria', 'temperature': 21.47, 'description': 'clear sky', 'humidity': 60}, {'city': 'Tlaxcala', 'temperature': 12.65, 'description': 'overcast clouds', 'humidity': 81}, {'city': 'Xalapa', 'temperature': 14.68, 'description': 'broken clouds', 'humidity': 99}, {'city': 'Mérida', 'temperature': 26.01, 'description': 'clear sky', 'humidity': 83}, {'city': 'Zacatecas', 'temperature': 11.81, 'description': 'clear sky', 'humidity': 48}]\n"
          ]
        }
      ]
    },
    {
      "cell_type": "code",
      "source": [
        "inicio = time.time()\n",
        "city_descr_rdd = rdd.map(lambda x: (x['description'], x['city']))\n",
        "print(city_descr_rdd.collect())\n",
        "fin = time.time() # Fin de ejecución\n",
        "\n",
        "print(\"Tiempo sin cache:\", fin - inicio)\n"
      ],
      "metadata": {
        "colab": {
          "base_uri": "https://localhost:8080/"
        },
        "id": "E6GOsItOrzhy",
        "outputId": "9c88c877-f842-4ea8-c9cc-762c77240041"
      },
      "execution_count": 39,
      "outputs": [
        {
          "output_type": "stream",
          "name": "stdout",
          "text": [
            "[('clear sky', 'Aguascalientes'), ('clear sky', 'Mexicali'), ('few clouds', 'La Paz'), ('overcast clouds', 'Campeche'), ('overcast clouds', 'Tuxtla Gutiérrez'), ('clear sky', 'Chihuahua'), ('clear sky', 'Saltillo'), ('few clouds', 'Colima'), ('clear sky', 'Durango'), ('broken clouds', 'Guanajuato City'), ('moderate rain', 'Chilpancingo'), ('broken clouds', 'Pachuca'), ('clear sky', 'Guadalajara'), ('broken clouds', 'Toluca'), ('broken clouds', 'Morelia'), ('broken clouds', 'Cuernavaca'), ('few clouds', 'Tepic'), ('clear sky', 'Monterrey'), ('broken clouds', 'Oaxaca City'), ('overcast clouds', 'Puebla'), ('scattered clouds', 'Querétaro'), ('light rain', 'Chetumal'), ('clear sky', 'San Luis Potosí'), ('few clouds', 'Culiacán'), ('clear sky', 'Hermosillo'), ('broken clouds', 'Villahermosa'), ('clear sky', 'Ciudad Victoria'), ('overcast clouds', 'Tlaxcala'), ('broken clouds', 'Xalapa'), ('clear sky', 'Mérida'), ('clear sky', 'Zacatecas')]\n",
            "Tiempo sin cache: 0.47708892822265625\n"
          ]
        }
      ]
    },
    {
      "cell_type": "code",
      "source": [
        "grouped_by_description = city_descr_rdd.groupByKey()\n",
        "result = grouped_by_description.collect()\n",
        "for description, cities in result:\n",
        "    print(f\"Description: {description}\")\n",
        "    print(f\"Cities: {', '.join(cities)}\")"
      ],
      "metadata": {
        "id": "yHX4BfrvC89r",
        "outputId": "5a12b0a6-dcf8-417d-a36a-c6315669ef12",
        "colab": {
          "base_uri": "https://localhost:8080/"
        }
      },
      "execution_count": 33,
      "outputs": [
        {
          "output_type": "stream",
          "name": "stdout",
          "text": [
            "Description: clear sky\n",
            "Cities: Aguascalientes, Mexicali, Chihuahua, Saltillo, Durango, Guadalajara, Monterrey, San Luis Potosí, Hermosillo, Ciudad Victoria, Mérida, Zacatecas\n",
            "Description: broken clouds\n",
            "Cities: Guanajuato City, Pachuca, Toluca, Morelia, Cuernavaca, Oaxaca City, Villahermosa, Xalapa\n",
            "Description: moderate rain\n",
            "Cities: Chilpancingo\n",
            "Description: scattered clouds\n",
            "Cities: Querétaro\n",
            "Description: few clouds\n",
            "Cities: La Paz, Colima, Tepic, Culiacán\n",
            "Description: overcast clouds\n",
            "Cities: Campeche, Tuxtla Gutiérrez, Puebla, Tlaxcala\n",
            "Description: light rain\n",
            "Cities: Chetumal\n"
          ]
        }
      ]
    },
    {
      "cell_type": "code",
      "source": [
        "city_descr_rdd.cache()"
      ],
      "metadata": {
        "id": "ZVqydAw3HgSq",
        "outputId": "36d2630b-eeba-4a01-c474-dd87d74806fd",
        "colab": {
          "base_uri": "https://localhost:8080/"
        }
      },
      "execution_count": 36,
      "outputs": [
        {
          "output_type": "execute_result",
          "data": {
            "text/plain": [
              "PythonRDD[27] at collect at <ipython-input-30-07d36b3e5fcf>:2"
            ]
          },
          "metadata": {},
          "execution_count": 36
        }
      ]
    },
    {
      "cell_type": "code",
      "source": [
        "city_descr_rdd.getNumPartitions()"
      ],
      "metadata": {
        "id": "TvhDX0OmPs5a",
        "outputId": "bbba3f10-0574-45c4-ce36-9db57843c8ac",
        "colab": {
          "base_uri": "https://localhost:8080/"
        }
      },
      "execution_count": 41,
      "outputs": [
        {
          "output_type": "execute_result",
          "data": {
            "text/plain": [
              "2"
            ]
          },
          "metadata": {},
          "execution_count": 41
        }
      ]
    },
    {
      "cell_type": "code",
      "source": [
        "city_descr_rdd.take(5)"
      ],
      "metadata": {
        "id": "LD-CgnZ7P7FI",
        "outputId": "c1ba79db-acfc-47ed-84a5-3e987b629d8f",
        "colab": {
          "base_uri": "https://localhost:8080/"
        }
      },
      "execution_count": 42,
      "outputs": [
        {
          "output_type": "execute_result",
          "data": {
            "text/plain": [
              "[('clear sky', 'Aguascalientes'),\n",
              " ('clear sky', 'Mexicali'),\n",
              " ('few clouds', 'La Paz'),\n",
              " ('overcast clouds', 'Campeche'),\n",
              " ('overcast clouds', 'Tuxtla Gutiérrez')]"
            ]
          },
          "metadata": {},
          "execution_count": 42
        }
      ]
    }
  ],
  "metadata": {
    "colab": {
      "name": "Te damos la bienvenida a Colaboratory",
      "toc_visible": true,
      "provenance": []
    },
    "kernelspec": {
      "display_name": "Python 3",
      "name": "python3"
    }
  },
  "nbformat": 4,
  "nbformat_minor": 0
}